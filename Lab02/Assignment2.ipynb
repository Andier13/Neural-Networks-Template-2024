{
 "cells": [
  {
   "cell_type": "code",
   "execution_count": 6,
   "id": "b73560d6-9f9a-4a25-bee4-c83c201e23a1",
   "metadata": {},
   "outputs": [
    {
     "name": "stdout",
     "output_type": "stream",
     "text": [
      "Requirement already satisfied: torchvision in c:\\users\\andier13\\appdata\\local\\programs\\python\\python312\\lib\\site-packages (0.20.0)\n",
      "Requirement already satisfied: numpy in c:\\users\\andier13\\appdata\\local\\programs\\python\\python312\\lib\\site-packages (from torchvision) (2.1.2)\n",
      "Requirement already satisfied: torch==2.5.0 in c:\\users\\andier13\\appdata\\local\\programs\\python\\python312\\lib\\site-packages (from torchvision) (2.5.0)\n",
      "Requirement already satisfied: pillow!=8.3.*,>=5.3.0 in c:\\users\\andier13\\appdata\\local\\programs\\python\\python312\\lib\\site-packages (from torchvision) (11.0.0)\n",
      "Requirement already satisfied: filelock in c:\\users\\andier13\\appdata\\local\\programs\\python\\python312\\lib\\site-packages (from torch==2.5.0->torchvision) (3.16.1)\n",
      "Requirement already satisfied: typing-extensions>=4.8.0 in c:\\users\\andier13\\appdata\\local\\programs\\python\\python312\\lib\\site-packages (from torch==2.5.0->torchvision) (4.12.2)\n",
      "Requirement already satisfied: networkx in c:\\users\\andier13\\appdata\\local\\programs\\python\\python312\\lib\\site-packages (from torch==2.5.0->torchvision) (3.4.1)\n",
      "Requirement already satisfied: jinja2 in c:\\users\\andier13\\appdata\\local\\programs\\python\\python312\\lib\\site-packages (from torch==2.5.0->torchvision) (3.1.4)\n",
      "Requirement already satisfied: fsspec in c:\\users\\andier13\\appdata\\local\\programs\\python\\python312\\lib\\site-packages (from torch==2.5.0->torchvision) (2024.9.0)\n",
      "Requirement already satisfied: setuptools in c:\\users\\andier13\\appdata\\local\\programs\\python\\python312\\lib\\site-packages (from torch==2.5.0->torchvision) (75.1.0)\n",
      "Requirement already satisfied: sympy==1.13.1 in c:\\users\\andier13\\appdata\\local\\programs\\python\\python312\\lib\\site-packages (from torch==2.5.0->torchvision) (1.13.1)\n",
      "Requirement already satisfied: mpmath<1.4,>=1.1.0 in c:\\users\\andier13\\appdata\\local\\programs\\python\\python312\\lib\\site-packages (from sympy==1.13.1->torch==2.5.0->torchvision) (1.3.0)\n",
      "Requirement already satisfied: MarkupSafe>=2.0 in c:\\users\\andier13\\appdata\\local\\programs\\python\\python312\\lib\\site-packages (from jinja2->torch==2.5.0->torchvision) (2.1.5)\n",
      "Note: you may need to restart the kernel to use updated packages.\n"
     ]
    }
   ],
   "source": [
    "%pip install torchvision"
   ]
  },
  {
   "cell_type": "code",
   "execution_count": 99,
   "id": "8ab1234f-7140-4900-8327-f9bd8d53cb03",
   "metadata": {},
   "outputs": [],
   "source": [
    "import numpy as np\n",
    "from torchvision.datasets import MNIST\n",
    "def download_mnist(is_train: bool):\n",
    "    dataset = MNIST(root='./data1',\n",
    "        transform=lambda x: np.array(x).flatten(),\n",
    "        download=True,\n",
    "        train=is_train)\n",
    "    \n",
    "    mnist_data = []\n",
    "    mnist_labels = []\n",
    "    \n",
    "    for image, label in dataset:\n",
    "        mnist_data.append(image)\n",
    "        mnist_labels.append(label)\n",
    "        \n",
    "    return mnist_data, mnist_labels\n",
    "    \n",
    "i_train_X, i_train_Y = download_mnist(True)\n",
    "i_test_X, i_test_Y = download_mnist(False)"
   ]
  },
  {
   "cell_type": "code",
   "execution_count": 3,
   "id": "203970a4-fd63-4147-b594-dfb6bc92744f",
   "metadata": {},
   "outputs": [],
   "source": [
    "# print(train_Y)"
   ]
  },
  {
   "cell_type": "code",
   "execution_count": 6,
   "id": "711a6fde-7c8b-4e69-83d6-230498858b0a",
   "metadata": {},
   "outputs": [],
   "source": [
    "def convert_to_one_hot_encoding(labels: np.ndarray) -> np.ndarray:\n",
    "    return np.eye(10)[labels]"
   ]
  },
  {
   "cell_type": "code",
   "execution_count": 7,
   "id": "0093973b-8696-4d5b-98de-0051c4318a1a",
   "metadata": {
    "scrolled": true
   },
   "outputs": [],
   "source": [
    "train_Y_one_hot_encoding = convert_to_one_hot_encoding(train_Y)\n",
    "# print(train_Y_one_hot_encoding)\n",
    "\n",
    "test_Y_one_hot_encoding = convert_to_one_hot_encoding(test_Y)\n",
    "# print(test_Y_one_hot_encoding)"
   ]
  },
  {
   "cell_type": "code",
   "execution_count": 8,
   "id": "cb96a145-f334-4d45-a2f4-22a17bbf3f34",
   "metadata": {},
   "outputs": [
    {
     "name": "stdout",
     "output_type": "stream",
     "text": [
      "<class 'numpy.ndarray'>\n",
      "<class 'numpy.ndarray'>\n"
     ]
    }
   ],
   "source": [
    "print(type(train_Y_one_hot_encoding))\n",
    "print(type(test_Y_one_hot_encoding))"
   ]
  },
  {
   "cell_type": "code",
   "execution_count": 16,
   "id": "ac9c7085-6d18-4e5f-91bf-f05b32c19f0f",
   "metadata": {},
   "outputs": [
    {
     "name": "stdout",
     "output_type": "stream",
     "text": [
      "<class 'numpy.ndarray'>\n",
      "<class 'numpy.ndarray'>\n",
      "<class 'numpy.ndarray'>\n"
     ]
    }
   ],
   "source": [
    "print(type(train_X))\n",
    "train_X = np.array(train_X)\n",
    "test_X = np.array(test_X)\n",
    "print(type(train_X))\n",
    "print(type(train_X[0]))\n"
   ]
  },
  {
   "cell_type": "code",
   "execution_count": 17,
   "id": "d06c81f3-b669-4ad0-bf7b-d82635ab73f1",
   "metadata": {},
   "outputs": [
    {
     "name": "stdout",
     "output_type": "stream",
     "text": [
      "<class 'numpy.ndarray'>\n",
      "<class 'numpy.ndarray'>\n"
     ]
    }
   ],
   "source": [
    "import numpy as np\n",
    "w = np.random.uniform(low=0, high=1, size=(784, 10))\n",
    "b = np.random.uniform(low=0, high=1, size=(10, ))\n",
    "print(type(w))\n",
    "print(type(b))"
   ]
  },
  {
   "cell_type": "code",
   "execution_count": 18,
   "id": "23c4b080-17fc-4c0a-bec7-ecddee07cef9",
   "metadata": {
    "scrolled": true
   },
   "outputs": [
    {
     "name": "stdout",
     "output_type": "stream",
     "text": [
      "<class 'numpy.ndarray'>\n",
      "<class 'numpy.ndarray'>\n"
     ]
    }
   ],
   "source": [
    "m = 13\n",
    "batch = train_X[:m, :]\n",
    "print(type(train_X))\n",
    "print(type(batch))"
   ]
  },
  {
   "cell_type": "code",
   "execution_count": 21,
   "id": "1fae8dd2-82d7-419d-861b-d11942f855e3",
   "metadata": {},
   "outputs": [
    {
     "data": {
      "text/plain": [
       "array([[0., 0., 0., ..., 0., 0., 0.],\n",
       "       [0., 0., 0., ..., 0., 0., 0.],\n",
       "       [0., 0., 0., ..., 0., 0., 0.],\n",
       "       ...,\n",
       "       [0., 0., 0., ..., 0., 0., 0.],\n",
       "       [0., 0., 0., ..., 0., 0., 0.],\n",
       "       [0., 0., 0., ..., 0., 0., 0.]])"
      ]
     },
     "execution_count": 21,
     "metadata": {},
     "output_type": "execute_result"
    }
   ],
   "source": [
    "def normalized(input: np.ndarray) -> np.ndarray:\n",
    "    return input / 255\n",
    "\n",
    "batch = normalized(batch)\n",
    "batch"
   ]
  },
  {
   "cell_type": "code",
   "execution_count": 26,
   "id": "28baf30a-3cfa-4a9f-bd9f-1d9af5a88893",
   "metadata": {},
   "outputs": [
    {
     "name": "stdout",
     "output_type": "stream",
     "text": [
      "(784, 10)\n",
      "(13, 784)\n",
      "(10,)\n"
     ]
    }
   ],
   "source": [
    "# x = np.random.uniform(low=0, high=1, size=(1, 784))\n",
    "x = batch\n",
    "print(w.shape)\n",
    "print(x.shape)\n",
    "print(b.shape)"
   ]
  },
  {
   "cell_type": "code",
   "execution_count": 30,
   "id": "c49d23a4-fc1e-46c7-af2a-9b8fec70a1b9",
   "metadata": {},
   "outputs": [],
   "source": [
    "z = x @ w + b"
   ]
  },
  {
   "cell_type": "code",
   "execution_count": 31,
   "id": "40badb33-bb78-4505-b6d6-6ea0140752ea",
   "metadata": {},
   "outputs": [
    {
     "name": "stdout",
     "output_type": "stream",
     "text": [
      "(13, 10)\n"
     ]
    }
   ],
   "source": [
    "print(z.shape)"
   ]
  },
  {
   "cell_type": "code",
   "execution_count": 43,
   "id": "4c57f26d-a5b0-440a-b75b-0739a9328b4f",
   "metadata": {},
   "outputs": [],
   "source": [
    "def softmax(z: np.ndarray) -> np.ndarray:\n",
    "    e_z = np.exp(z)\n",
    "    return e_z / e_z.sum(axis = 1, keepdims = True)"
   ]
  },
  {
   "cell_type": "code",
   "execution_count": 44,
   "id": "b0ea3dff-cdce-4a64-ab9d-823a5d3e288d",
   "metadata": {},
   "outputs": [],
   "source": [
    "y = softmax(z)"
   ]
  },
  {
   "cell_type": "code",
   "execution_count": 45,
   "id": "0744a1fb-92d4-4da7-82ff-bf5778e5970a",
   "metadata": {},
   "outputs": [
    {
     "name": "stdout",
     "output_type": "stream",
     "text": [
      "[[1.68400402e-01 1.09746053e-02 4.97885344e-06 7.62408791e-01\n",
      "  4.73095799e-02 4.09245518e-03 3.39132317e-03 5.48319965e-04\n",
      "  1.99311629e-03 8.76428068e-04]\n",
      " [9.10747636e-05 1.38529449e-04 1.79412808e-07 9.87474528e-01\n",
      "  1.17005877e-03 1.54460922e-03 5.39887365e-05 6.06970639e-05\n",
      "  2.66492717e-04 9.19984137e-03]\n",
      " [2.70318438e-03 2.02068469e-01 1.00174262e-02 3.16253033e-01\n",
      "  1.09522355e-02 1.19517195e-01 1.00323431e-01 1.00547101e-03\n",
      "  2.26919140e-03 2.34890364e-01]\n",
      " [2.19224544e-01 1.08829128e-02 6.44532616e-03 3.89274038e-01\n",
      "  1.46054309e-01 2.87720511e-02 1.11006615e-01 1.23275415e-02\n",
      "  6.08731593e-03 6.99253472e-02]\n",
      " [4.72416464e-04 1.76567840e-04 1.23204838e-06 2.50631817e-03\n",
      "  8.25239025e-04 3.12873019e-03 9.23028510e-01 6.27864627e-02\n",
      "  4.84272891e-03 2.23179498e-03]\n",
      " [1.19964234e-02 4.39249164e-03 3.07874734e-04 1.77955587e-01\n",
      "  1.26756566e-02 2.17148809e-03 7.57935764e-01 3.13019699e-03\n",
      "  2.35972294e-03 2.70747945e-02]\n",
      " [1.78130017e-02 4.16449282e-02 3.69216889e-05 5.64119492e-03\n",
      "  8.09065389e-01 1.13959043e-02 1.09700379e-02 3.78166350e-02\n",
      "  5.94134680e-02 6.20251936e-03]\n",
      " [1.69102446e-01 2.21130087e-01 5.14316945e-04 3.53876409e-01\n",
      "  3.41356630e-03 1.53753968e-03 1.48595470e-01 2.33532547e-02\n",
      "  1.33456545e-03 7.71423454e-02]\n",
      " [3.16726315e-03 1.20956205e-02 1.16087562e-04 1.29980001e-02\n",
      "  7.32780973e-01 3.15778516e-02 1.22108582e-01 5.37578307e-02\n",
      "  2.86691690e-02 2.72862184e-03]\n",
      " [2.85927412e-03 5.31256941e-03 2.16882516e-05 1.73802147e-03\n",
      "  1.32780522e-02 1.77615985e-03 9.74524273e-01 2.31246500e-04\n",
      "  1.34666592e-04 1.24048197e-04]\n",
      " [6.47921987e-03 3.17146612e-01 1.20321429e-04 1.79946019e-01\n",
      "  2.54272005e-01 1.59000631e-03 2.83792627e-02 1.44602336e-01\n",
      "  6.99840741e-04 6.67643762e-02]\n",
      " [1.04484640e-01 4.78163423e-03 1.99617771e-03 1.19737659e-02\n",
      "  4.44503941e-01 2.66577997e-02 8.46877071e-02 2.40785532e-01\n",
      "  1.72001806e-02 6.29286218e-02]\n",
      " [1.47919754e-03 4.13792315e-01 1.30739681e-05 2.46272844e-03\n",
      "  4.58730240e-01 2.05501866e-03 7.16925214e-05 4.42749825e-02\n",
      "  5.98430158e-04 7.65223213e-02]]\n"
     ]
    }
   ],
   "source": [
    "print(y)"
   ]
  },
  {
   "cell_type": "code",
   "execution_count": 50,
   "id": "3942773a-f5cb-4982-9bd5-ba8f08e63758",
   "metadata": {},
   "outputs": [],
   "source": [
    "y_ = np.argmax(y, axis = 1)"
   ]
  },
  {
   "cell_type": "code",
   "execution_count": 51,
   "id": "088e2da0-c0ff-44c3-a046-26face31fbe0",
   "metadata": {},
   "outputs": [
    {
     "name": "stdout",
     "output_type": "stream",
     "text": [
      "[3 3 3 3 6 6 4 3 4 6 1 4 4]\n"
     ]
    }
   ],
   "source": [
    "print(y_)"
   ]
  },
  {
   "cell_type": "code",
   "execution_count": 52,
   "id": "4dd104b7-e3d7-49fb-b7d8-4b6adce99497",
   "metadata": {},
   "outputs": [],
   "source": [
    "def cross_entropy(y_, y):\n",
    "    return - np.sum(y * np.log(y_))"
   ]
  },
  {
   "cell_type": "code",
   "execution_count": 57,
   "id": "84b96b70-b959-4b5c-a578-ad2ebedd5be5",
   "metadata": {},
   "outputs": [
    {
     "name": "stdout",
     "output_type": "stream",
     "text": [
      "-55.02129540230514\n"
     ]
    }
   ],
   "source": [
    "y_batch = train_Y[:m]\n",
    "loss = cross_entropy(y_, y_batch)\n",
    "print(loss)"
   ]
  },
  {
   "cell_type": "code",
   "execution_count": 65,
   "id": "c05e6ce4-6de8-4b69-8e4e-32bebbb11f23",
   "metadata": {},
   "outputs": [
    {
     "name": "stdout",
     "output_type": "stream",
     "text": [
      "[[0.22572476 0.351076   0.9437021  ... 0.432876   0.07582175 0.09293933]\n",
      " [0.87466644 0.5925958  0.24762545 ... 0.18826031 0.0287874  0.02688922]\n",
      " [0.03389935 0.32942256 0.54800663 ... 0.7971835  0.85789229 0.43592229]\n",
      " ...\n",
      " [0.82521186 0.92878306 0.52432488 ... 0.7580914  0.85688651 0.38979159]\n",
      " [0.78555454 0.17710324 0.94085198 ... 0.08200829 0.46392864 0.67269786]\n",
      " [0.15480996 0.50062253 0.40169843 ... 0.56226995 0.36706065 0.16528863]]\n",
      "[0.52072366 0.6243422  0.03410834 0.99313061 0.92171819 0.3251874\n",
      " 0.1307649  0.6744717  0.27857279 0.36613341]\n"
     ]
    }
   ],
   "source": [
    "print(w)\n",
    "print(b)"
   ]
  },
  {
   "cell_type": "code",
   "execution_count": 73,
   "id": "37023dcb-b214-40bb-b97a-feb932444f36",
   "metadata": {},
   "outputs": [],
   "source": [
    "def back_propagation_gradient_descent(w, b, x, y_label, y_prediction):\n",
    "    miu = 0.1\n",
    "    gradient = y_label - y_prediction\n",
    "    # w = w + miu * (x.T @ gradient)\n",
    "    # b = b + miu * gradient\n",
    "\n",
    "    print(x.T.shape)\n",
    "    print(gradient.shape)\n",
    "    \n",
    "    w_add = x.T @ gradient\n",
    "    # b_add = np.array(gradient, dtype = np.float64)\n",
    "    b_add = gradient.sum(axis = 0)\n",
    "\n",
    "    w_add *= miu\n",
    "    b_add *= miu\n",
    "\n",
    "    print(w.shape)\n",
    "    print(w_add.shape)\n",
    "    \n",
    "    w += w_add\n",
    "    b += b_add\n",
    "    \n",
    "    return w, b"
   ]
  },
  {
   "cell_type": "code",
   "execution_count": 74,
   "id": "77b59f6a-38cb-47df-8c8a-8085124c4324",
   "metadata": {},
   "outputs": [
    {
     "name": "stdout",
     "output_type": "stream",
     "text": [
      "(784, 13)\n",
      "(13, 10)\n",
      "(784, 10)\n",
      "(784, 10)\n"
     ]
    }
   ],
   "source": [
    "w1, b1 = back_propagation_gradient_descent(w, b, x, convert_to_one_hot_encoding(y_batch), convert_to_one_hot_encoding(y_))"
   ]
  },
  {
   "cell_type": "code",
   "execution_count": null,
   "id": "abc929a1-2f5f-413a-998c-4b14efaf205b",
   "metadata": {},
   "outputs": [],
   "source": [
    "-------------------------------------Final Solution-------------------------------------------------"
   ]
  },
  {
   "cell_type": "code",
   "execution_count": 86,
   "id": "2df37a08-3543-4573-9518-83d32b2c0f88",
   "metadata": {},
   "outputs": [],
   "source": [
    "def convert_to_one_hot_encoding(labels: np.ndarray) -> np.ndarray:\n",
    "    return np.eye(10)[labels]\n",
    "\n",
    "def normalized(input: np.ndarray) -> np.ndarray:\n",
    "    return input / 255"
   ]
  },
  {
   "cell_type": "code",
   "execution_count": 87,
   "id": "c8e3ea0a-87a5-453b-a63f-f1d9cb09b39b",
   "metadata": {},
   "outputs": [],
   "source": [
    "def transform_initial_data(train_X, train_Y, test_X, test_Y):\n",
    "    train_Y = convert_to_one_hot_encoding(train_Y)\n",
    "    test_Y = convert_to_one_hot_encoding(test_Y)\n",
    "    \n",
    "    train_X = np.array(train_X)\n",
    "    test_X = np.array(test_X)\n",
    "\n",
    "    train_X = normalized(train_X)\n",
    "    test_X = normalized(test_X)\n",
    "    \n",
    "    return train_X, train_Y, test_X, test_Y"
   ]
  },
  {
   "cell_type": "code",
   "execution_count": 88,
   "id": "6f5756ce-d0e9-4d82-8ed9-21bed266d806",
   "metadata": {},
   "outputs": [],
   "source": [
    "def softmax(z: np.ndarray) -> np.ndarray:\n",
    "    e_z = np.exp(z)\n",
    "    return e_z / e_z.sum(axis = 1, keepdims = True)"
   ]
  },
  {
   "cell_type": "code",
   "execution_count": 89,
   "id": "381e2c6a-b97d-4aa3-8dbb-67e2cb1cd5d6",
   "metadata": {},
   "outputs": [],
   "source": [
    "def forward_propagation(x, w, b):\n",
    "    z = x @ w + b\n",
    "    y = softmax(z)\n",
    "    return y"
   ]
  },
  {
   "cell_type": "code",
   "execution_count": 90,
   "id": "b5c250e9-f963-4516-8d51-93afd04b9022",
   "metadata": {},
   "outputs": [],
   "source": [
    "def predict(y):\n",
    "    y = np.argmax(y, axis = 1)\n",
    "    y = convert_to_one_hot_encoding(y)\n",
    "    return y"
   ]
  },
  {
   "cell_type": "code",
   "execution_count": 91,
   "id": "efbbb681-c19d-4d00-af23-821a2d579191",
   "metadata": {},
   "outputs": [],
   "source": [
    "def cross_entropy(predicition_Y, train_Y):\n",
    "    return - np.sum(train_Y * np.log(predicition_Y))"
   ]
  },
  {
   "cell_type": "code",
   "execution_count": 126,
   "id": "a09f2e72-e2dc-4799-a1c0-91c39ab665c7",
   "metadata": {},
   "outputs": [],
   "source": [
    "def back_propagation(train_X, w, b, predicition_Y, train_Y, miu=0.2):\n",
    "    gradient = train_Y - predicition_Y\n",
    "    w = w + miu * (train_X.T @ gradient)\n",
    "    b = b + miu * gradient.sum(axis = 0)\n",
    "    return w, b"
   ]
  },
  {
   "cell_type": "code",
   "execution_count": 94,
   "id": "fc2219ea-da9d-496a-b7d2-8c3056f9ab7f",
   "metadata": {},
   "outputs": [],
   "source": [
    "def train_neural_network(train_X, train_Y, epoch_count, m=100):\n",
    "    w = np.random.uniform(low=0, high=1, size=(784, 10))\n",
    "    b = np.random.uniform(low=0, high=1, size=(10, ))\n",
    "\n",
    "    train_count = train_X.shape[0]\n",
    "\n",
    "    for i in range(0, epoch_count):\n",
    "        indices = np.arange(0, train_count)\n",
    "        np.random.shuffle(indices)\n",
    "\n",
    "        train_X = train_X[indices]\n",
    "        train_Y = train_Y[indices]\n",
    "\n",
    "        for j in range(0, train_count, m):\n",
    "            batch_X = train_X[j:j+m]\n",
    "            batch_Y = train_Y[j:j+m]\n",
    "\n",
    "            fp = forward_propagation(batch_X, w, b)\n",
    "            \n",
    "            predictions = predict(fp)\n",
    "\n",
    "            # cross_entropy_loss = cross_entropy(predictions, batch_Y)\n",
    "\n",
    "            w, b = back_propagation(batch_X, w, b, predictions, batch_Y)\n",
    "\n",
    "    return w, b     "
   ]
  },
  {
   "cell_type": "code",
   "execution_count": 128,
   "id": "521ec2d3-435b-4430-8ac4-e3c877c781a1",
   "metadata": {},
   "outputs": [],
   "source": [
    "def test_neural_network(test_X, w, b, test_Y):\n",
    "    fp = forward_propagation(test_X, w, b)\n",
    "    predictions = predict(fp)\n",
    "\n",
    "    print(f\"{predictions.shape=}; {test_Y.shape=}\")\n",
    "\n",
    "    # test_count = test_Y.shape[0]\n",
    "    # accuracy = 0\n",
    "    # for i in range(0, test_count):\n",
    "    #     accuracy += predictions[i] @ test_Y[i]\n",
    "    # accuracy = accuracy / test_count\n",
    "\n",
    "    accuracy = np.mean(np.sum(predictions * test_Y, axis=1))\n",
    "\n",
    "    return accuracy"
   ]
  },
  {
   "cell_type": "code",
   "execution_count": 131,
   "id": "bbed42ba-b774-4bd1-9b00-af357cca48a9",
   "metadata": {},
   "outputs": [
    {
     "name": "stdout",
     "output_type": "stream",
     "text": [
      "predictions.shape=(10000, 10); test_Y.shape=(10000, 10)\n",
      "0.9089\n",
      "final accuracy = 0.9089\n"
     ]
    }
   ],
   "source": [
    "train_X, train_Y, test_X, test_Y = transform_initial_data(i_train_X, i_train_Y, i_test_X, i_test_Y)\n",
    "epoch_count = 50\n",
    "\n",
    "accuracy = 0\n",
    "while accuracy<0.9:\n",
    "    w, b = train_neural_network(train_X, train_Y, epoch_count)\n",
    "    accuracy = test_neural_network(test_X, w, b, test_Y)\n",
    "    print(accuracy)\n",
    "print(f\"final accuracy = {accuracy}\")"
   ]
  },
  {
   "cell_type": "code",
   "execution_count": null,
   "id": "dd20691e-e04c-417f-9258-5e2cd51bfc04",
   "metadata": {},
   "outputs": [],
   "source": []
  }
 ],
 "metadata": {
  "kernelspec": {
   "display_name": "Python 3 (ipykernel)",
   "language": "python",
   "name": "python3"
  },
  "language_info": {
   "codemirror_mode": {
    "name": "ipython",
    "version": 3
   },
   "file_extension": ".py",
   "mimetype": "text/x-python",
   "name": "python",
   "nbconvert_exporter": "python",
   "pygments_lexer": "ipython3",
   "version": "3.12.6"
  }
 },
 "nbformat": 4,
 "nbformat_minor": 5
}
